{
 "cells": [
  {
   "cell_type": "markdown",
   "id": "8b772115",
   "metadata": {},
   "source": [
    "# Acceptance-rejection approach"
   ]
  },
  {
   "cell_type": "code",
   "execution_count": 1,
   "id": "4e9679e3",
   "metadata": {},
   "outputs": [],
   "source": [
    "import numpy as np\n",
    "import matplotlib.pyplot as plt"
   ]
  },
  {
   "cell_type": "code",
   "execution_count": 2,
   "id": "7634cbdb",
   "metadata": {},
   "outputs": [],
   "source": [
    "#defining Y\n",
    "np.random.seed(400)\n",
    "uni_y=np.random.rand(1000)"
   ]
  },
  {
   "cell_type": "code",
   "execution_count": 3,
   "id": "40f012ee",
   "metadata": {
    "scrolled": true
   },
   "outputs": [
    {
     "data": {
      "image/png": "[encoded data removed]",
      "text/plain": [
       "<Figure size 432x288 with 1 Axes>"
      ]
     },
     "metadata": {
      "needs_background": "light"
     },
     "output_type": "display_data"
    }
   ],
   "source": [
    "plt.hist(uni_y)\n",
    "plt.show()"
   ]
  },
  {
   "cell_type": "code",
   "execution_count": 4,
   "id": "dfdb0ea3",
   "metadata": {},
   "outputs": [],
   "source": [
    "#defining U\n",
    "np.random.seed(500)\n",
    "uni_u=np.random.rand(1000)"
   ]
  },
  {
   "cell_type": "code",
   "execution_count": 5,
   "id": "b958b752",
   "metadata": {},
   "outputs": [
    {
     "data": {
      "image/png": "[encoded data removed]",
      "text/plain": [
       "<Figure size 432x288 with 1 Axes>"
      ]
     },
     "metadata": {
      "needs_background": "light"
     },
     "output_type": "display_data"
    }
   ],
   "source": [
    "plt.hist(uni_u)\n",
    "plt.show()"
   ]
  },
  {
   "cell_type": "markdown",
   "id": "e4ed20e1",
   "metadata": {},
   "source": [
    "# Half-normal"
   ]
  },
  {
   "cell_type": "code",
   "execution_count": 6,
   "id": "8656a00f",
   "metadata": {},
   "outputs": [],
   "source": [
    "half_dist=[]\n",
    "for y in range(0,1000):\n",
    "    if (-2*(np.log(uni_y[y])) == (np.log(uni_u[y]) + 1)**2) or (-2*(np.log(uni_y[y])) > (np.log(uni_u[y]) + 1)**2):\n",
    "        half_dist.append(-np.log(uni_u[y]))"
   ]
  },
  {
   "cell_type": "code",
   "execution_count": 7,
   "id": "b2152ba2",
   "metadata": {},
   "outputs": [
    {
     "data": {
      "image/png": "[encoded data removed]",
      "text/plain": [
       "<Figure size 432x288 with 1 Axes>"
      ]
     },
     "metadata": {
      "needs_background": "light"
     },
     "output_type": "display_data"
    }
   ],
   "source": [
    "plt.hist(half_dist)\n",
    "plt.show()"
   ]
  },
  {
   "cell_type": "markdown",
   "id": "d6716263",
   "metadata": {},
   "source": [
    "# Full Normal"
   ]
  },
  {
   "cell_type": "code",
   "execution_count": 10,
   "id": "4f46c7ea",
   "metadata": {},
   "outputs": [
    {
     "data": {
      "image/png": "[encoded data removed]",
      "text/plain": [
       "<Figure size 432x288 with 1 Axes>"
      ]
     },
     "metadata": {
      "needs_background": "light"
     },
     "output_type": "display_data"
    }
   ],
   "source": [
    "norm = list()\n",
    "np.random.seed(1984)\n",
    "uni=np.random.rand(1000)\n",
    "for i in range(0, len(half_dist)):\n",
    "    if uni[i] > 0.5:\n",
    "        norm.append(half_dist[i])\n",
    "    else:\n",
    "        norm.append(-half_dist[i])\n",
    "plt.hist(norm, bins=50)\n",
    "plt.show()"
   ]
  },
  {
   "cell_type": "markdown",
   "id": "9cfb32d6",
   "metadata": {},
   "source": [
    "# Normality and timing test"
   ]
  },
  {
   "cell_type": "code",
   "execution_count": 11,
   "id": "5a7f0d07",
   "metadata": {},
   "outputs": [],
   "source": [
    "from scipy.stats import shapiro"
   ]
  },
  {
   "cell_type": "code",
   "execution_count": 12,
   "id": "a13c5602",
   "metadata": {},
   "outputs": [
    {
     "data": {
      "text/plain": [
       "ShapiroResult(statistic=0.9985335469245911, pvalue=0.7846737504005432)"
      ]
     },
     "execution_count": 12,
     "metadata": {},
     "output_type": "execute_result"
    }
   ],
   "source": [
    "shapiro(norm)"
   ]
  },
  {
   "cell_type": "code",
   "execution_count": 13,
   "id": "6d5a8735",
   "metadata": {},
   "outputs": [],
   "source": [
    "import timeit"
   ]
  },
  {
   "cell_type": "code",
   "execution_count": 14,
   "id": "fe9a1783",
   "metadata": {},
   "outputs": [],
   "source": [
    "mysetup = \"import numpy as np\"\n",
    "mycode = '''\n",
    "uni_y = np.random.rand(1000)\n",
    "uni_u=np.random.rand(1000)\n",
    "half_dist=list()\n",
    "for y in range(0,1000):\n",
    "    if (-2*(np.log(uni_y[y])) == (np.log(uni_u[y]) + 1)**2) or (-2*(np.log(uni_y[y])) > (np.log(uni_u[y]) + 1)**2):\n",
    "        half_dist.append(-np.log(uni_u[y]))\n",
    "norm = list()\n",
    "np.random.seed(1984)\n",
    "uni=np.random.rand(1000)\n",
    "for i in range(0, len(half_dist)):\n",
    "    if uni[i] > 0.5:\n",
    "        norm.append(half_dist[i])\n",
    "    else:\n",
    "        norm.append(-half_dist[i])'''\n"
   ]
  },
  {
   "cell_type": "code",
   "execution_count": 15,
   "id": "705a5e94",
   "metadata": {},
   "outputs": [
    {
     "name": "stdout",
     "output_type": "stream",
     "text": [
      "14.288108200000002\n"
     ]
    }
   ],
   "source": [
    "print (timeit.timeit(setup = mysetup,\n",
    "                     stmt = mycode,\n",
    "                     number = 1000))"
   ]
  },
  {
   "cell_type": "code",
   "execution_count": 16,
   "id": "61bf200c",
   "metadata": {},
   "outputs": [],
   "source": [
    "default='''np.random.randn'''"
   ]
  },
  {
   "cell_type": "code",
   "execution_count": 17,
   "id": "e4434c2d",
   "metadata": {},
   "outputs": [
    {
     "name": "stdout",
     "output_type": "stream",
     "text": [
      "0.00026999999999688384\n"
     ]
    }
   ],
   "source": [
    "print (timeit.timeit(setup = mysetup,\n",
    "                     stmt = default,\n",
    "                     number = 1000))"
   ]
  },
  {
   "cell_type": "code",
   "execution_count": 18,
   "id": "2e8beb31",
   "metadata": {},
   "outputs": [
    {
     "name": "stdout",
     "output_type": "stream",
     "text": [
      "0.020893800000003182\n"
     ]
    }
   ],
   "source": [
    "print (timeit.timeit(setup = mysetup,\n",
    "                     stmt = mycode,\n",
    "                     number = 1))"
   ]
  },
  {
   "cell_type": "code",
   "execution_count": 19,
   "id": "5ecf8fa8",
   "metadata": {},
   "outputs": [
    {
     "name": "stdout",
     "output_type": "stream",
     "text": [
      "4.000000000559112e-06\n"
     ]
    }
   ],
   "source": [
    "print (timeit.timeit(setup = mysetup,\n",
    "                     stmt = default,\n",
    "                     number = 1))"
   ]
  },
  {
   "cell_type": "code",
   "execution_count": null,
   "id": "7e9058ac",
   "metadata": {},
   "outputs": [],
   "source": []
  }
 ],
 "metadata": {
  "kernelspec": {
   "display_name": "Python 3 (ipykernel)",
   "language": "python",
   "name": "python3"
  },
  "language_info": {
   "codemirror_mode": {
    "name": "ipython",
    "version": 3
   },
   "file_extension": ".py",
   "mimetype": "text/x-python",
   "name": "python",
   "nbconvert_exporter": "python",
   "pygments_lexer": "ipython3",
   "version": "3.9.12"
  }
 },
 "nbformat": 4,
 "nbformat_minor": 5
}
