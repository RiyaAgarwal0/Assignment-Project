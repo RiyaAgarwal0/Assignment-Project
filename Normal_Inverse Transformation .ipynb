{
 "cells": [
  {
   "cell_type": "markdown",
   "id": "10e27e5d",
   "metadata": {},
   "source": [
    "# Inverse Transformation method"
   ]
  },
  {
   "cell_type": "code",
   "execution_count": 1,
   "id": "b9ad68de",
   "metadata": {},
   "outputs": [],
   "source": [
    "import numpy as np\n",
    "import matplotlib.pyplot as plt"
   ]
  },
  {
   "cell_type": "code",
   "execution_count": 2,
   "id": "438891a2",
   "metadata": {},
   "outputs": [],
   "source": [
    "#defining U\n",
    "np.random.seed(400)\n",
    "U=np.random.rand(1000)"
   ]
  },
  {
   "cell_type": "code",
   "execution_count": 3,
   "id": "0d4820f8",
   "metadata": {},
   "outputs": [],
   "source": [
    "#Using inverse c.d.f. of the standard normal distribution proposed by Schmeiser\n",
    "Z=[]\n",
    "for i in range(0,1000):\n",
    "    Z.append((U[i]**0.135-(1-U[i])**0.135)/0.1975)"
   ]
  },
  {
   "cell_type": "code",
   "execution_count": 12,
   "id": "0dcc8b58",
   "metadata": {
    "scrolled": true
   },
   "outputs": [
    {
     "data": {
      "image/png": "[encoded data removed]",
      "text/plain": [
       "<Figure size 432x288 with 1 Axes>"
      ]
     },
     "metadata": {
      "needs_background": "light"
     },
     "output_type": "display_data"
    }
   ],
   "source": [
    "plt.hist(Z,bins=50)\n",
    "plt.show()"
   ]
  },
  {
   "cell_type": "code",
   "execution_count": 13,
   "id": "2b69f21d",
   "metadata": {},
   "outputs": [
    {
     "data": {
      "text/plain": [
       "ShapiroResult(statistic=0.9981459379196167, pvalue=0.3492223024368286)"
      ]
     },
     "execution_count": 13,
     "metadata": {},
     "output_type": "execute_result"
    }
   ],
   "source": [
    "from scipy.stats import shapiro\n",
    "shapiro(Z)"
   ]
  },
  {
   "cell_type": "code",
   "execution_count": 22,
   "id": "6cf6c2cb",
   "metadata": {},
   "outputs": [],
   "source": [
    "import timeit"
   ]
  },
  {
   "cell_type": "code",
   "execution_count": 23,
   "id": "b6cf7e9a",
   "metadata": {},
   "outputs": [],
   "source": [
    "mysetup = \"import numpy as np\"\n",
    "mycode = '''\n",
    "np.random.seed(400)\n",
    "U=np.random.rand(1000)\n",
    "Z=[]\n",
    "for i in range(0,1000):\n",
    "    Z.append((U[i]**0.135-(1-U[i])**0.135)/0.1975)'''"
   ]
  },
  {
   "cell_type": "code",
   "execution_count": 24,
   "id": "6a9919ab",
   "metadata": {},
   "outputs": [
    {
     "name": "stdout",
     "output_type": "stream",
     "text": [
      "2.4022863000000143\n"
     ]
    }
   ],
   "source": [
    "print (timeit.timeit(setup = mysetup,\n",
    "                     stmt = mycode,\n",
    "                     number = 1000))"
   ]
  },
  {
   "cell_type": "code",
   "execution_count": 25,
   "id": "a952ae4e",
   "metadata": {},
   "outputs": [],
   "source": [
    "default='''np.random.randn'''"
   ]
  },
  {
   "cell_type": "code",
   "execution_count": 26,
   "id": "e32543cb",
   "metadata": {},
   "outputs": [
    {
     "name": "stdout",
     "output_type": "stream",
     "text": [
      "0.00023950000013428507\n"
     ]
    }
   ],
   "source": [
    "print (timeit.timeit(setup = mysetup,\n",
    "                     stmt = default,\n",
    "                     number = 1000))"
   ]
  },
  {
   "cell_type": "code",
   "execution_count": null,
   "id": "3b9b1dc8",
   "metadata": {},
   "outputs": [],
   "source": []
  }
 ],
 "metadata": {
  "kernelspec": {
   "display_name": "Python 3 (ipykernel)",
   "language": "python",
   "name": "python3"
  },
  "language_info": {
   "codemirror_mode": {
    "name": "ipython",
    "version": 3
   },
   "file_extension": ".py",
   "mimetype": "text/x-python",
   "name": "python",
   "nbconvert_exporter": "python",
   "pygments_lexer": "ipython3",
   "version": "3.9.12"
  }
 },
 "nbformat": 4,
 "nbformat_minor": 5
}
